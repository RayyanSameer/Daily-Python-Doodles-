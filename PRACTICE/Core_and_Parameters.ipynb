{
 "cells": [
  {
   "cell_type": "code",
   "execution_count": null,
   "id": "e6967d29",
   "metadata": {},
   "outputs": [],
   "source": [
    "#Create a logger that accepts any number of messages and prints them line by line.\n",
    "\n",
    "\n",
    "\n",
    "def logger(*logs):\n",
    "    for _ in logs:\n",
    "        print(*logs)\n",
    "logger = input(\"enter messages\")\n",
    "\n",
    "logger(*logs)\n",
    "\n",
    "\n"
   ]
  },
  {
   "cell_type": "code",
   "execution_count": null,
   "id": "05ac63a7",
   "metadata": {},
   "outputs": [
    {
     "ename": "ValueError",
     "evalue": "invalid literal for int() with base 10: 'Enter numbers'",
     "output_type": "error",
     "traceback": [
      "\u001b[31m---------------------------------------------------------------------------\u001b[39m",
      "\u001b[31mValueError\u001b[39m                                Traceback (most recent call last)",
      "\u001b[36mCell\u001b[39m\u001b[36m \u001b[39m\u001b[32mIn[4]\u001b[39m\u001b[32m, line 3\u001b[39m\n\u001b[32m      1\u001b[39m \u001b[38;5;66;03m#Create a function multiply_all(*args) that multiplies any number of numbers.\u001b[39;00m\n\u001b[32m----> \u001b[39m\u001b[32m3\u001b[39m multiply_all = \u001b[38;5;28minput\u001b[39m(\u001b[38;5;28;43mint\u001b[39;49m\u001b[43m(\u001b[49m\u001b[33;43m\"\u001b[39;49m\u001b[33;43mEnter numbers\u001b[39;49m\u001b[33;43m\"\u001b[39;49m\u001b[43m)\u001b[49m)   \n\u001b[32m      4\u001b[39m \u001b[38;5;28;01mif\u001b[39;00m \u001b[33m\"\u001b[39m\u001b[33mq\u001b[39m\u001b[33m\"\u001b[39m \u001b[38;5;129;01min\u001b[39;00m multiply_all:\n\u001b[32m      5\u001b[39m     quit() \n",
      "\u001b[31mValueError\u001b[39m: invalid literal for int() with base 10: 'Enter numbers'"
     ]
    }
   ],
   "source": [
    "def multiply_all(*args):\n",
    "    # Initialize the product to 1 (multiplicative identity)\n",
    "    product = 1\n",
    "    for num in args:\n",
    "        product *= num  \n",
    "    return product\n",
    "\n",
    "\n",
    "numbers = map(int, numbers.split())\n",
    "result = multiply_all(*numbers)\n",
    "print(\"The product of the numbers is:\", result)\n",
    "    \n",
    "\n"
   ]
  },
  {
   "cell_type": "code",
   "execution_count": null,
   "id": "a1a38741",
   "metadata": {},
   "outputs": [],
   "source": []
  },
  {
   "cell_type": "code",
   "execution_count": null,
   "id": "9d4ed09f",
   "metadata": {},
   "outputs": [],
   "source": [
    "#Create a function that returns multiple values (e.g., sum and average).\n",
    "\n",
    "def multiple_values(avg,sum):\n",
    "    number1= input(int(\"Enter a number\"))\n",
    "    number2= input(int(\"Enter a number\"))\n",
    "    number3= input(int(\"Enter a number\"))\n",
    "\n",
    "    sum = number1 + number2 + number3\n",
    "    avg = sum/3\n",
    "    return sum,avg \n",
    "\n",
    "\n"
   ]
  },
  {
   "cell_type": "code",
   "execution_count": 14,
   "id": "fe1a3813",
   "metadata": {},
   "outputs": [
    {
     "name": "stdout",
     "output_type": "stream",
     "text": [
      "15\n",
      "Happy birthday Rayyan,you are now 20 years old \n"
     ]
    }
   ],
   "source": [
    "#Write a function with both positional and keyword arguments.\n",
    "\n",
    "def positional_arguements(a,b):\n",
    "    sum = a + b\n",
    "    print(sum)\n",
    "    return sum\n",
    "\n",
    "a = 5 \n",
    "b = 10 \n",
    "\n",
    "positional_arguements(a,b)\n",
    "\n",
    "\n",
    "def keyword_arguements(name,age):\n",
    "    greeting = print(f\"Happy birthday {name},you are now {age} years old \")\n",
    "    return greeting\n",
    "\n",
    "age = 20\n",
    "name = \"Rayyan\"\n",
    "\n",
    "keyword_arguements(name,age)\n",
    "\n"
   ]
  },
  {
   "cell_type": "code",
   "execution_count": 11,
   "id": "7074e017",
   "metadata": {},
   "outputs": [
    {
     "data": {
      "text/plain": [
       "['abc', 1.2, '1']"
      ]
     },
     "execution_count": 11,
     "metadata": {},
     "output_type": "execute_result"
    }
   ],
   "source": [
    "#Function that reverses a list\n",
    "\n",
    "list1 = ['1',1.2,'abc']\n",
    "def reverse_list(list1):\n",
    "    reverse_list = list1[::-1]\n",
    "    return reverse_list\n",
    "\n",
    "reverse_list(list1)    "
   ]
  },
  {
   "cell_type": "code",
   "execution_count": 10,
   "id": "2f78e85e",
   "metadata": {},
   "outputs": [
    {
     "name": "stdout",
     "output_type": "stream",
     "text": [
      "[]\n"
     ]
    }
   ],
   "source": [
    "#Write a function that counts vowels in a string.\n",
    "count = 0\n",
    "\n",
    "def vowelcount(count):\n",
    "   \n",
    "    li = [list(x) for x in input(\"Enter your sentence, use space to seperate words: \").lower()]\n",
    "    print(li)\n",
    "\n",
    "    vowels = ['a','e','i','o','u']\n",
    "\n",
    "    for i in range(len(li)):\n",
    "            if li[i] in vowels:\n",
    "                print(f\"{li[li]} is a vowel \")\n",
    "                count += 1 \n",
    "                print(f\"There are {count} number of vowels \")\n",
    "\n",
    "\n",
    "\n",
    "\n",
    "\n",
    "vowelcount(count)    \n"
   ]
  },
  {
   "cell_type": "code",
   "execution_count": null,
   "id": "2e525b5e",
   "metadata": {},
   "outputs": [],
   "source": [
    "#Use for, .split(), and if to create a Statement that will print out words that start with 's'\n",
    "\n",
    "result = []\n",
    "statement = input(\"Type Something : \")\n",
    "\n",
    "#Word splitting\n",
    "words = statement.split()\n",
    "for word in words :\n",
    "    for char in word:\n",
    "        if word.startswith('s'):\n",
    "            result.append(word)\n",
    "\n",
    "\n"
   ]
  },
  {
   "cell_type": "code",
   "execution_count": 12,
   "id": "2ac4a8c5",
   "metadata": {},
   "outputs": [
    {
     "data": {
      "text/plain": [
       "33.49333333333333"
      ]
     },
     "execution_count": 12,
     "metadata": {},
     "output_type": "execute_result"
    }
   ],
   "source": [
    "#Write a function that computes the volume of a sphere given its radius.\n",
    "\n",
    "rad = int(input(\"Enter a radius : \"))\n",
    "def vol(rad):\n",
    "    vol = ((4/3) * 3.14 * (rad ** 3))\n",
    "    return vol\n",
    "vol(rad)\n"
   ]
  },
  {
   "cell_type": "code",
   "execution_count": null,
   "id": "0a29a44e",
   "metadata": {},
   "outputs": [
    {
     "name": "stdout",
     "output_type": "stream",
     "text": [
      "10 is not in the range [14, 15)\n"
     ]
    }
   ],
   "source": [
    "#Write a function that checks whether a number is in a given range (inclusive of high and low)\n",
    "\n",
    "\n",
    "high = int(input(\"Enter high range : \"))\n",
    "\n",
    "low = int(input(\"Enter lower range : \"))\n",
    "\n",
    "num = int(input(\"Enter a number : \"))\n",
    "\n",
    "def ran_check(low,num,high):\n",
    "    if num in range(low, high):\n",
    "        print(f\"{num} is in the range [{low}, {high})\")\n",
    "    else:\n",
    "        print(f\"{num} is not in the range [{low}, {high})\")\n",
    "\n",
    "ran_check(low,num,high)        \n"
   ]
  },
  {
   "cell_type": "code",
   "execution_count": 22,
   "id": "3432c817",
   "metadata": {},
   "outputs": [
    {
     "name": "stdout",
     "output_type": "stream",
     "text": [
      "['Hey', 'Ass']\n",
      "No of upper case letter : 2\n",
      "No of lower case letter : 4\n"
     ]
    }
   ],
   "source": [
    "#Write a Python function that accepts a string and calculates the number of upper case letters and lower case letters.\n",
    "\n",
    "lower = []\n",
    "upper = []\n",
    "statement = input(\"Type Something : \")\n",
    "\n",
    "#Word splitting\n",
    "words = statement.split()\n",
    "print(words)\n",
    "for word in words :\n",
    "    for char in word:\n",
    "        if char.islower():\n",
    "            lower.append(word)\n",
    "        else:\n",
    "            upper.append(word)    \n",
    "           \n",
    "print(f\"No of upper case letter : {len(upper)}\")\n",
    "print(f\"No of lower case letter : {len(lower)}\")"
   ]
  },
  {
   "cell_type": "code",
   "execution_count": 24,
   "id": "9d2f05d2",
   "metadata": {},
   "outputs": [
    {
     "name": "stdout",
     "output_type": "stream",
     "text": [
      "{'1591621'}\n"
     ]
    }
   ],
   "source": [
    "#Write a Python function that takes a list and returns a new list with unique elements of the first list.\n",
    "\n",
    "list1 = []\n",
    "user_input = input(\"Type something : \")\n",
    "unique_elements = []\n",
    "checked_elements = set()\n",
    "\n",
    "for item in user_input:\n",
    "    if item not in checked_elements:\n",
    "        unique_elements.append(item)\n",
    "        checked_elements.add(item)\n",
    "  "
   ]
  },
  {
   "cell_type": "code",
   "execution_count": 30,
   "id": "288eac7c",
   "metadata": {},
   "outputs": [
    {
     "name": "stdout",
     "output_type": "stream",
     "text": [
      "Not a palindrome \n"
     ]
    }
   ],
   "source": [
    "#Write a Python function that checks whether a word or phrase is palindrome or not.\n",
    "\n",
    "def palindrome():\n",
    "    s = input(\"Enter a word : \")\n",
    "    if s == s[::-1]:\n",
    "        print(\"It's a palindrome\")\n",
    "    else:\n",
    "        print(\"Not a palindrome \")    \n",
    "    \n",
    "palindrome()    "
   ]
  }
 ],
 "metadata": {
  "kernelspec": {
   "display_name": "Python 3",
   "language": "python",
   "name": "python3"
  },
  "language_info": {
   "codemirror_mode": {
    "name": "ipython",
    "version": 3
   },
   "file_extension": ".py",
   "mimetype": "text/x-python",
   "name": "python",
   "nbconvert_exporter": "python",
   "pygments_lexer": "ipython3",
   "version": "3.12.10"
  }
 },
 "nbformat": 4,
 "nbformat_minor": 5
}
